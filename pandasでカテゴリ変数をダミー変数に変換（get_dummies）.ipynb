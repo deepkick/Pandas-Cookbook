{
 "cells": [
  {
   "cell_type": "markdown",
   "metadata": {},
   "source": [
    "# pandasでカテゴリ変数をダミー変数に変換（get_dummies）\n",
    "\n",
    "https://note.nkmk.me/python-pandas-get-dummies/\n",
    "\n",
    "pandasでカテゴリ変数（カテゴリカルデータ、質的データ）をダミー変数に変換するには、pandas.get_dummies()関数を使う。\n",
    "\n",
    "pandas.get_dummies — pandas 0.22.0 documentation\n",
    "\n",
    "文字列でカテゴリー分けされた性別などのデータを、男を0, 女を1のように変換したり、多クラスの特徴量をone-hot表現に変換したりすることができる。機械学習の前処理として行うことが多い。\n",
    "\n",
    "ここでは以下の内容について説明する。\n",
    "\n",
    "* pandas.get_dummies()の基本的な使い方\n",
    "* 最初のカテゴリーを除外: 引数drop_first\n",
    "* 欠損値NaNもダミー化: 引数dummy_na\n",
    "* pandas.DataFrameのダミー変数の列名を指定: 引数prefix, prefix_sep\n",
    "* pandas.DataFrameの列を指定して数値・ブール列もダミー化: 引数columns\n",
    "* 各カテゴリー（水準）を任意の数値化: map()メソッド\n",
    "* pandas.get_dummies()で複数のデータを変換する場合の注意点  \n",
    "\n",
    "例として以下のデータを使用する。説明のために列を追加している。"
   ]
  },
  {
   "cell_type": "code",
   "execution_count": 5,
   "metadata": {},
   "outputs": [
    {
     "data": {
      "text/html": [
       "<div>\n",
       "<style scoped>\n",
       "    .dataframe tbody tr th:only-of-type {\n",
       "        vertical-align: middle;\n",
       "    }\n",
       "\n",
       "    .dataframe tbody tr th {\n",
       "        vertical-align: top;\n",
       "    }\n",
       "\n",
       "    .dataframe thead th {\n",
       "        text-align: right;\n",
       "    }\n",
       "</style>\n",
       "<table border=\"1\" class=\"dataframe\">\n",
       "  <thead>\n",
       "    <tr style=\"text-align: right;\">\n",
       "      <th></th>\n",
       "      <th>age</th>\n",
       "      <th>state</th>\n",
       "      <th>point</th>\n",
       "      <th>sex</th>\n",
       "      <th>rank</th>\n",
       "    </tr>\n",
       "    <tr>\n",
       "      <th>name</th>\n",
       "      <th></th>\n",
       "      <th></th>\n",
       "      <th></th>\n",
       "      <th></th>\n",
       "      <th></th>\n",
       "    </tr>\n",
       "  </thead>\n",
       "  <tbody>\n",
       "    <tr>\n",
       "      <th>Alice</th>\n",
       "      <td>24</td>\n",
       "      <td>NY</td>\n",
       "      <td>64</td>\n",
       "      <td>female</td>\n",
       "      <td>2</td>\n",
       "    </tr>\n",
       "    <tr>\n",
       "      <th>Bob</th>\n",
       "      <td>42</td>\n",
       "      <td>CA</td>\n",
       "      <td>92</td>\n",
       "      <td>NaN</td>\n",
       "      <td>1</td>\n",
       "    </tr>\n",
       "    <tr>\n",
       "      <th>Charlie</th>\n",
       "      <td>18</td>\n",
       "      <td>CA</td>\n",
       "      <td>70</td>\n",
       "      <td>male</td>\n",
       "      <td>1</td>\n",
       "    </tr>\n",
       "    <tr>\n",
       "      <th>Dave</th>\n",
       "      <td>68</td>\n",
       "      <td>TX</td>\n",
       "      <td>70</td>\n",
       "      <td>male</td>\n",
       "      <td>0</td>\n",
       "    </tr>\n",
       "    <tr>\n",
       "      <th>Ellen</th>\n",
       "      <td>24</td>\n",
       "      <td>CA</td>\n",
       "      <td>88</td>\n",
       "      <td>female</td>\n",
       "      <td>2</td>\n",
       "    </tr>\n",
       "    <tr>\n",
       "      <th>Frank</th>\n",
       "      <td>30</td>\n",
       "      <td>NY</td>\n",
       "      <td>57</td>\n",
       "      <td>male</td>\n",
       "      <td>0</td>\n",
       "    </tr>\n",
       "  </tbody>\n",
       "</table>\n",
       "</div>"
      ],
      "text/plain": [
       "         age state  point     sex  rank\n",
       "name                                   \n",
       "Alice     24    NY     64  female     2\n",
       "Bob       42    CA     92     NaN     1\n",
       "Charlie   18    CA     70    male     1\n",
       "Dave      68    TX     70    male     0\n",
       "Ellen     24    CA     88  female     2\n",
       "Frank     30    NY     57    male     0"
      ]
     },
     "execution_count": 5,
     "metadata": {},
     "output_type": "execute_result"
    }
   ],
   "source": [
    "import pandas as pd\n",
    "import numpy as np\n",
    "\n",
    "df = pd.read_csv('sample_pandas_normal.csv', index_col=0)\n",
    "\n",
    "df['sex'] = ['female', np.nan, 'male', 'male', 'female', 'male']\n",
    "df['rank'] = [2, 1, 1, 0, 2, 0]\n",
    "\n",
    "df"
   ]
  },
  {
   "cell_type": "markdown",
   "metadata": {},
   "source": [
    "## pandas.get_dummies()の基本的な使い方\n",
    "\n",
    "第一引数dataにpanas.Series、配列（Pythonのリスト、NumPy配列ndarrayなど）、および、pandas.DataFrameを指定する。\n",
    "\n",
    "いずれの場合もpandas.DataFrameの新たなオブジェクトが返される。元のオブジェクトを更新したい場合は、例えば以下のように元のオブジェクトに代入すればよい。"
   ]
  },
  {
   "cell_type": "code",
   "execution_count": 7,
   "metadata": {},
   "outputs": [
    {
     "data": {
      "text/html": [
       "<div>\n",
       "<style scoped>\n",
       "    .dataframe tbody tr th:only-of-type {\n",
       "        vertical-align: middle;\n",
       "    }\n",
       "\n",
       "    .dataframe tbody tr th {\n",
       "        vertical-align: top;\n",
       "    }\n",
       "\n",
       "    .dataframe thead th {\n",
       "        text-align: right;\n",
       "    }\n",
       "</style>\n",
       "<table border=\"1\" class=\"dataframe\">\n",
       "  <thead>\n",
       "    <tr style=\"text-align: right;\">\n",
       "      <th></th>\n",
       "      <th>age</th>\n",
       "      <th>point</th>\n",
       "      <th>rank</th>\n",
       "      <th>state_CA</th>\n",
       "      <th>state_NY</th>\n",
       "      <th>state_TX</th>\n",
       "      <th>sex_female</th>\n",
       "      <th>sex_male</th>\n",
       "    </tr>\n",
       "    <tr>\n",
       "      <th>name</th>\n",
       "      <th></th>\n",
       "      <th></th>\n",
       "      <th></th>\n",
       "      <th></th>\n",
       "      <th></th>\n",
       "      <th></th>\n",
       "      <th></th>\n",
       "      <th></th>\n",
       "    </tr>\n",
       "  </thead>\n",
       "  <tbody>\n",
       "    <tr>\n",
       "      <th>Alice</th>\n",
       "      <td>24</td>\n",
       "      <td>64</td>\n",
       "      <td>2</td>\n",
       "      <td>0</td>\n",
       "      <td>1</td>\n",
       "      <td>0</td>\n",
       "      <td>1</td>\n",
       "      <td>0</td>\n",
       "    </tr>\n",
       "    <tr>\n",
       "      <th>Bob</th>\n",
       "      <td>42</td>\n",
       "      <td>92</td>\n",
       "      <td>1</td>\n",
       "      <td>1</td>\n",
       "      <td>0</td>\n",
       "      <td>0</td>\n",
       "      <td>0</td>\n",
       "      <td>0</td>\n",
       "    </tr>\n",
       "    <tr>\n",
       "      <th>Charlie</th>\n",
       "      <td>18</td>\n",
       "      <td>70</td>\n",
       "      <td>1</td>\n",
       "      <td>1</td>\n",
       "      <td>0</td>\n",
       "      <td>0</td>\n",
       "      <td>0</td>\n",
       "      <td>1</td>\n",
       "    </tr>\n",
       "    <tr>\n",
       "      <th>Dave</th>\n",
       "      <td>68</td>\n",
       "      <td>70</td>\n",
       "      <td>0</td>\n",
       "      <td>0</td>\n",
       "      <td>0</td>\n",
       "      <td>1</td>\n",
       "      <td>0</td>\n",
       "      <td>1</td>\n",
       "    </tr>\n",
       "    <tr>\n",
       "      <th>Ellen</th>\n",
       "      <td>24</td>\n",
       "      <td>88</td>\n",
       "      <td>2</td>\n",
       "      <td>1</td>\n",
       "      <td>0</td>\n",
       "      <td>0</td>\n",
       "      <td>1</td>\n",
       "      <td>0</td>\n",
       "    </tr>\n",
       "    <tr>\n",
       "      <th>Frank</th>\n",
       "      <td>30</td>\n",
       "      <td>57</td>\n",
       "      <td>0</td>\n",
       "      <td>0</td>\n",
       "      <td>1</td>\n",
       "      <td>0</td>\n",
       "      <td>0</td>\n",
       "      <td>1</td>\n",
       "    </tr>\n",
       "  </tbody>\n",
       "</table>\n",
       "</div>"
      ],
      "text/plain": [
       "         age  point  rank  state_CA  state_NY  state_TX  sex_female  sex_male\n",
       "name                                                                         \n",
       "Alice     24     64     2         0         1         0           1         0\n",
       "Bob       42     92     1         1         0         0           0         0\n",
       "Charlie   18     70     1         1         0         0           0         1\n",
       "Dave      68     70     0         0         0         1           0         1\n",
       "Ellen     24     88     2         1         0         0           1         0\n",
       "Frank     30     57     0         0         1         0           0         1"
      ]
     },
     "execution_count": 7,
     "metadata": {},
     "output_type": "execute_result"
    }
   ],
   "source": [
    "df = pd.get_dummies(df)\n",
    "df"
   ]
  },
  {
   "cell_type": "markdown",
   "metadata": {},
   "source": [
    "### 引数にpandas.Series、配列を指定する場合\n",
    "\n",
    "pandas.Series、配列（Pythonのリスト、NumPy配列ndarrayなど）の場合、カテゴリー名が列名になる。"
   ]
  },
  {
   "cell_type": "code",
   "execution_count": 12,
   "metadata": {},
   "outputs": [
    {
     "data": {
      "text/html": [
       "<div>\n",
       "<style scoped>\n",
       "    .dataframe tbody tr th:only-of-type {\n",
       "        vertical-align: middle;\n",
       "    }\n",
       "\n",
       "    .dataframe tbody tr th {\n",
       "        vertical-align: top;\n",
       "    }\n",
       "\n",
       "    .dataframe thead th {\n",
       "        text-align: right;\n",
       "    }\n",
       "</style>\n",
       "<table border=\"1\" class=\"dataframe\">\n",
       "  <thead>\n",
       "    <tr style=\"text-align: right;\">\n",
       "      <th></th>\n",
       "      <th>age</th>\n",
       "      <th>state</th>\n",
       "      <th>point</th>\n",
       "      <th>sex</th>\n",
       "      <th>rank</th>\n",
       "    </tr>\n",
       "    <tr>\n",
       "      <th>name</th>\n",
       "      <th></th>\n",
       "      <th></th>\n",
       "      <th></th>\n",
       "      <th></th>\n",
       "      <th></th>\n",
       "    </tr>\n",
       "  </thead>\n",
       "  <tbody>\n",
       "    <tr>\n",
       "      <th>Alice</th>\n",
       "      <td>24</td>\n",
       "      <td>NY</td>\n",
       "      <td>64</td>\n",
       "      <td>female</td>\n",
       "      <td>2</td>\n",
       "    </tr>\n",
       "    <tr>\n",
       "      <th>Bob</th>\n",
       "      <td>42</td>\n",
       "      <td>CA</td>\n",
       "      <td>92</td>\n",
       "      <td>NaN</td>\n",
       "      <td>1</td>\n",
       "    </tr>\n",
       "    <tr>\n",
       "      <th>Charlie</th>\n",
       "      <td>18</td>\n",
       "      <td>CA</td>\n",
       "      <td>70</td>\n",
       "      <td>male</td>\n",
       "      <td>1</td>\n",
       "    </tr>\n",
       "    <tr>\n",
       "      <th>Dave</th>\n",
       "      <td>68</td>\n",
       "      <td>TX</td>\n",
       "      <td>70</td>\n",
       "      <td>male</td>\n",
       "      <td>0</td>\n",
       "    </tr>\n",
       "    <tr>\n",
       "      <th>Ellen</th>\n",
       "      <td>24</td>\n",
       "      <td>CA</td>\n",
       "      <td>88</td>\n",
       "      <td>female</td>\n",
       "      <td>2</td>\n",
       "    </tr>\n",
       "    <tr>\n",
       "      <th>Frank</th>\n",
       "      <td>30</td>\n",
       "      <td>NY</td>\n",
       "      <td>57</td>\n",
       "      <td>male</td>\n",
       "      <td>0</td>\n",
       "    </tr>\n",
       "  </tbody>\n",
       "</table>\n",
       "</div>"
      ],
      "text/plain": [
       "         age state  point     sex  rank\n",
       "name                                   \n",
       "Alice     24    NY     64  female     2\n",
       "Bob       42    CA     92     NaN     1\n",
       "Charlie   18    CA     70    male     1\n",
       "Dave      68    TX     70    male     0\n",
       "Ellen     24    CA     88  female     2\n",
       "Frank     30    NY     57    male     0"
      ]
     },
     "execution_count": 12,
     "metadata": {},
     "output_type": "execute_result"
    }
   ],
   "source": [
    "df = pd.read_csv('sample_pandas_normal.csv', index_col=0)\n",
    "\n",
    "df['sex'] = ['female', np.nan, 'male', 'male', 'female', 'male']\n",
    "df['rank'] = [2, 1, 1, 0, 2, 0]\n",
    "\n",
    "df"
   ]
  },
  {
   "cell_type": "code",
   "execution_count": 13,
   "metadata": {},
   "outputs": [
    {
     "name": "stdout",
     "output_type": "stream",
     "text": [
      "         female  male\n",
      "name                 \n",
      "Alice         1     0\n",
      "Bob           0     0\n",
      "Charlie       0     1\n",
      "Dave          0     1\n",
      "Ellen         1     0\n",
      "Frank         0     1\n"
     ]
    }
   ],
   "source": [
    "print(pd.get_dummies(df['sex']))"
   ]
  },
  {
   "cell_type": "code",
   "execution_count": 14,
   "metadata": {},
   "outputs": [
    {
     "name": "stdout",
     "output_type": "stream",
     "text": [
      "   1  2  male\n",
      "0  0  0     1\n",
      "1  1  0     0\n",
      "2  1  0     0\n",
      "3  0  1     0\n"
     ]
    }
   ],
   "source": [
    "print(pd.get_dummies(['male', 1, 1, 2]))"
   ]
  },
  {
   "cell_type": "code",
   "execution_count": 15,
   "metadata": {},
   "outputs": [
    {
     "name": "stdout",
     "output_type": "stream",
     "text": [
      "   0  1  2  3  4  5\n",
      "0  1  0  0  0  0  0\n",
      "1  0  1  0  0  0  0\n",
      "2  0  0  1  0  0  0\n",
      "3  0  0  0  1  0  0\n",
      "4  0  0  0  0  1  0\n",
      "5  0  0  0  0  0  1\n"
     ]
    }
   ],
   "source": [
    "print(pd.get_dummies(np.arange(6)))"
   ]
  },
  {
   "cell_type": "markdown",
   "metadata": {},
   "source": [
    "### 引数にpandas.DataFrameを指定する場合\n",
    "\n",
    "pandas.DataFrameの場合は、デフォルトではデータ型dtypeがobject（おもに文字列）またはcategoryである列がすべてダミー変数化される。\n",
    "\n",
    "数値（int, float）やブールboolの列は変換されず元のまま。数値やブールの列もダミー化したい場合の設定については後述。\n",
    "\n",
    "pandas.DataFrameの場合の列名は元の列名_カテゴリー名となる。変更する設定は後述。\n"
   ]
  },
  {
   "cell_type": "code",
   "execution_count": 16,
   "metadata": {},
   "outputs": [
    {
     "name": "stdout",
     "output_type": "stream",
     "text": [
      "         age  point  rank  state_NY  state_TX  sex_male\n",
      "name                                                   \n",
      "Alice     24     64     2         1         0         0\n",
      "Bob       42     92     1         0         0         0\n",
      "Charlie   18     70     1         0         0         1\n",
      "Dave      68     70     0         0         1         1\n",
      "Ellen     24     88     2         0         0         0\n",
      "Frank     30     57     0         1         0         1\n"
     ]
    }
   ],
   "source": [
    "print(pd.get_dummies(df, drop_first=True))"
   ]
  },
  {
   "cell_type": "markdown",
   "metadata": {},
   "source": [
    "### 欠損値NaNもダミー化: 引数dummy_na\n",
    "\n",
    "デフォルトでは欠損値NaNは除外して処理される。\n",
    "\n",
    "NaNも一つのカテゴリーとしてダミー変数化したい場合は、引数dummy_na=Trueとする。\n",
    "\n",
    "このとき、NaNを含まない列に対してもNaNのダミー変数が生成される。すべての要素が0となる。"
   ]
  },
  {
   "cell_type": "code",
   "execution_count": 17,
   "metadata": {},
   "outputs": [
    {
     "name": "stdout",
     "output_type": "stream",
     "text": [
      "         age  point  rank  state_NY  state_TX  state_nan  sex_male  sex_nan\n",
      "name                                                                       \n",
      "Alice     24     64     2         1         0          0         0        0\n",
      "Bob       42     92     1         0         0          0         0        1\n",
      "Charlie   18     70     1         0         0          0         1        0\n",
      "Dave      68     70     0         0         1          0         1        0\n",
      "Ellen     24     88     2         0         0          0         0        0\n",
      "Frank     30     57     0         1         0          0         1        0\n"
     ]
    }
   ],
   "source": [
    "print(pd.get_dummies(df, drop_first=True, dummy_na=True))"
   ]
  },
  {
   "cell_type": "code",
   "execution_count": null,
   "metadata": {},
   "outputs": [],
   "source": []
  }
 ],
 "metadata": {
  "kernelspec": {
   "display_name": "Python 3",
   "language": "python",
   "name": "python3"
  },
  "language_info": {
   "codemirror_mode": {
    "name": "ipython",
    "version": 3
   },
   "file_extension": ".py",
   "mimetype": "text/x-python",
   "name": "python",
   "nbconvert_exporter": "python",
   "pygments_lexer": "ipython3",
   "version": "3.7.3"
  }
 },
 "nbformat": 4,
 "nbformat_minor": 2
}
